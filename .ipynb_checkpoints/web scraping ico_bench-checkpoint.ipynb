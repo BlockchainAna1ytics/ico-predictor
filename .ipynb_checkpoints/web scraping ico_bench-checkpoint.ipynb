{
 "cells": [
  {
   "cell_type": "code",
   "execution_count": 1,
   "metadata": {},
   "outputs": [],
   "source": [
    "from bs4 import BeautifulSoup\n",
    "import requests\n",
    "import json\n",
    "import re\n",
    "import sys\n",
    "import pprint"
   ]
  },
  {
   "cell_type": "code",
   "execution_count": 2,
   "metadata": {},
   "outputs": [],
   "source": [
    "def extract_num(s1, s2):\n",
    "    return s1[len(s2):].strip()"
   ]
  },
  {
   "cell_type": "code",
   "execution_count": 3,
   "metadata": {},
   "outputs": [],
   "source": [
    "def group(lst, n):\n",
    "    return zip(*[lst[i::n] for i in range(n)]) "
   ]
  },
  {
   "cell_type": "code",
   "execution_count": null,
   "metadata": {},
   "outputs": [
    {
     "name": "stdout",
     "output_type": "stream",
     "text": [
      "page 73 out of 175 (22.19%)             "
     ]
    }
   ],
   "source": [
    "ico_list = []\n",
    "for i in range(1,340):\n",
    "    responseText = requests.get('https://icobench.com/icos?page={}'.format(i)).text\n",
    "    soup = BeautifulSoup(responseText, 'html.parser')\n",
    "    for a in soup.find_all('a', 'name'):\n",
    "        ico_list.append(a['href'])\n",
    "        sys.stdout.write('\\r' + ' ' * 40)\n",
    "        sys.stdout.write('\\r' + 'page {} out of 175 ({:.2f}%)'.format(i, (100.0 * i / 329)))\n",
    "print(str(len(ico_list)) + ' links')\n",
    "print('saving the links')\n",
    "with open('icolinks2.json', 'w') as f:\n",
    "    f.write(json.dumps(ico_list))"
   ]
  },
  {
   "cell_type": "code",
   "execution_count": null,
   "metadata": {},
   "outputs": [],
   "source": [
    "ico_list = json.loads(open('ico_bench_links.json', 'r').read())\n",
    "num_links = len(ico_list)\n",
    "result = []\n",
    "bad_links = []\n",
    "for index, link in enumerate(ico_list):\n",
    "    try:\n",
    "        responseText = requests.get('https://icobench.com{}'.format(link)).text\n",
    "        soup = BeautifulSoup(responseText, 'html.parser')\n",
    "        item = {}\n",
    "        item['link'] = link\n",
    "        item['name'] = soup.find('h1').text.strip()\n",
    "        item['categories'] = [cat.text.strip() for cat in soup.find('div', 'categories').contents]\n",
    "        ratings = {}\n",
    "        t = tuple(re.sub(r'\\s+', ' ',soup.find('div', 'wrapper').text.strip()).split(' ')[:2])\n",
    "        ratings[t[0]] = t[1]\n",
    "        for it in [re.sub(r'\\s+', ' ', c.text.strip()) for c in soup.find_all('div', 'col_4 col_3')]:\n",
    "            t = tuple(it.split(' ')[::-1])\n",
    "            ratings[t[0]] = t[1]\n",
    "        item['ratings'] = ratings\n",
    "        for i in [c.text.strip() for c in soup.find('div', 'box_right').contents if 'Tag' in str(type(c)) and c.text.strip() != '']:\n",
    "            if 'Accepting' in i:\n",
    "                item['accepting'] = [i.strip() for i in i[9:].split(',')]\n",
    "            if 'Min. investment' in i:\n",
    "                item['min_investment'] = extract_num(i, 'Min. investment ')\n",
    "            if 'Distributed' in i:\n",
    "                item['distributed'] = extract_num(i, 'Distributed ')\n",
    "            if 'Soft cap' in i:\n",
    "                item['soft_cap'] = extract_num(i, 'Soft cap ')\n",
    "            if 'Hard cap' in i:\n",
    "                item['hard_cap'] = extract_num(i, 'Hard cap ')\n",
    "            if 'Raised' in i:\n",
    "                item  ['raised'] = extract_num(i, 'Raised ')\n",
    "        l = [t.text.strip() for t in soup.find_all('div', 'col_2') if t.text.strip() != '']\n",
    "        for index2, e in enumerate(l):\n",
    "            if 'Price in ICO' in e:\n",
    "                item['price'] = re.sub(r'[A-Za-z]','', l[index2 + 1])\n",
    "            if 'ICO start' in e:\n",
    "                item['start_date'] = l[index2 + 1]\n",
    "            if 'ICO end' in e:\n",
    "                item['end_date'] = l[index2 + 1]\n",
    "        sys.stdout.write('\\r' + ' ' * 100)\n",
    "        p = (100.0 * index / num_links)\n",
    "        sys.stdout.write('\\r' + 'link {} out of {} ({:.2f}%) [{}], {} bad links'.format(index + 1, num_links, p, int(p/2) * '#' + (50 - int(p/2)) * '-', len(bad_links)))\n",
    "        result.append(item)\n",
    "    except:\n",
    "        bad_links.append(link)\n",
    "        pass\n",
    "print('writing to ico_bench_data.json')\n",
    "with open('ico_bench_data.json', 'w') as f:\n",
    "    f.write(json.dumps(result))\n",
    "print('Done !')"
   ]
  },
  {
   "cell_type": "markdown",
   "metadata": {},
   "source": [
    "# Description Gathering For LDA ICO Info"
   ]
  },
  {
   "cell_type": "code",
   "execution_count": 22,
   "metadata": {
    "scrolled": true
   },
   "outputs": [
    {
     "name": "stdout",
     "output_type": "stream",
     "text": [
      "page 339 out of 340: (99.71%) [#################################################-],4068 entries, 0 bad linkssaving the links ...\n"
     ]
    },
    {
     "ename": "NameError",
     "evalue": "name 'ico_list' is not defined",
     "output_type": "error",
     "traceback": [
      "\u001b[1;31m---------------------------------------------------------------------------\u001b[0m",
      "\u001b[1;31mNameError\u001b[0m                                 Traceback (most recent call last)",
      "\u001b[1;32m<ipython-input-22-0178e341b22c>\u001b[0m in \u001b[0;36m<module>\u001b[1;34m()\u001b[0m\n\u001b[0;32m     21\u001b[0m \u001b[0mprint\u001b[0m\u001b[1;33m(\u001b[0m\u001b[1;34m'saving the links ...'\u001b[0m\u001b[1;33m)\u001b[0m\u001b[1;33m\u001b[0m\u001b[0m\n\u001b[0;32m     22\u001b[0m \u001b[1;32mwith\u001b[0m \u001b[0mopen\u001b[0m\u001b[1;33m(\u001b[0m\u001b[1;34m'ico_bench_descriptions.json'\u001b[0m\u001b[1;33m,\u001b[0m \u001b[1;34m'w'\u001b[0m\u001b[1;33m)\u001b[0m \u001b[1;32mas\u001b[0m \u001b[0mf\u001b[0m\u001b[1;33m:\u001b[0m\u001b[1;33m\u001b[0m\u001b[0m\n\u001b[1;32m---> 23\u001b[1;33m     \u001b[0mf\u001b[0m\u001b[1;33m.\u001b[0m\u001b[0mwrite\u001b[0m\u001b[1;33m(\u001b[0m\u001b[0mjson\u001b[0m\u001b[1;33m.\u001b[0m\u001b[0mdumps\u001b[0m\u001b[1;33m(\u001b[0m\u001b[0mico_list\u001b[0m\u001b[1;33m)\u001b[0m\u001b[1;33m)\u001b[0m\u001b[1;33m\u001b[0m\u001b[0m\n\u001b[0m\u001b[0;32m     24\u001b[0m \u001b[0mprint\u001b[0m\u001b[1;33m(\u001b[0m\u001b[1;34m'Done !'\u001b[0m\u001b[1;33m)\u001b[0m\u001b[1;33m\u001b[0m\u001b[0m\n",
      "\u001b[1;31mNameError\u001b[0m: name 'ico_list' is not defined"
     ]
    }
   ],
   "source": [
    "descriptions = []\n",
    "bad_links = []\n",
    "for i in range(1,340):\n",
    "    try:\n",
    "        responseText = requests.get('https://icobench.com/icos?page={}'.format(i)).text\n",
    "        soup = BeautifulSoup(responseText, 'html.parser')\n",
    "        for a in soup.find_all('a', 'name'):\n",
    "            link = a['href']\n",
    "            responseText2 = requests.get('https://icobench.com{}'.format(link)).text\n",
    "            soup2 = BeautifulSoup(responseText2, 'html.parser')\n",
    "            name = soup2.find('h1').text.strip()\n",
    "            description = soup2.find('p').text\n",
    "            descriptions.append((name, description))\n",
    "            p = (100.0 * i / 340)\n",
    "            sys.stdout.write('\\rpage {} out of 340: ({:.2f}%) [{}],{} entries, {} bad links'\n",
    "                             .format(i, p, int(p/2) * '#' + (50 - int(p/2)) * '-', len(descriptions), len(bad_links)))\n",
    "            sys.stdout.flush()\n",
    "    except:\n",
    "            bad_links.append(link)\n",
    "            pass\n",
    "print('saving the links ...')\n",
    "with open('ico_bench_descriptions.json', 'w') as f:\n",
    "    f.write(json.dumps(ico_list))\n",
    "print('Done !')"
   ]
  },
  {
   "cell_type": "code",
   "execution_count": 5,
   "metadata": {},
   "outputs": [
    {
     "ename": "NameError",
     "evalue": "name 'name' is not defined",
     "output_type": "error",
     "traceback": [
      "\u001b[1;31m---------------------------------------------------------------------------\u001b[0m",
      "\u001b[1;31mNameError\u001b[0m                                 Traceback (most recent call last)",
      "\u001b[1;32m<ipython-input-5-9bc0cb2ed6de>\u001b[0m in \u001b[0;36m<module>\u001b[1;34m()\u001b[0m\n\u001b[1;32m----> 1\u001b[1;33m \u001b[0mname\u001b[0m\u001b[1;33m\u001b[0m\u001b[0m\n\u001b[0m",
      "\u001b[1;31mNameError\u001b[0m: name 'name' is not defined"
     ]
    }
   ],
   "source": [
    "name"
   ]
  },
  {
   "cell_type": "code",
   "execution_count": 8,
   "metadata": {},
   "outputs": [
    {
     "data": {
      "text/plain": [
       "'GCOX'"
      ]
     },
     "execution_count": 8,
     "metadata": {},
     "output_type": "execute_result"
    }
   ],
   "source": [
    "responseText = requests.get('https://icobench.com/ico/gcox').text\n",
    "soup = BeautifulSoup(responseText, 'html.parser')\n",
    "soup.find('h1').text.strip()"
   ]
  },
  {
   "cell_type": "code",
   "execution_count": 1,
   "metadata": {},
   "outputs": [
    {
     "ename": "NameError",
     "evalue": "name 'bad_links' is not defined",
     "output_type": "error",
     "traceback": [
      "\u001b[1;31m---------------------------------------------------------------------------\u001b[0m",
      "\u001b[1;31mNameError\u001b[0m                                 Traceback (most recent call last)",
      "\u001b[1;32m<ipython-input-1-a730587774fb>\u001b[0m in \u001b[0;36m<module>\u001b[1;34m()\u001b[0m\n\u001b[1;32m----> 1\u001b[1;33m \u001b[0mbad_links\u001b[0m\u001b[1;33m\u001b[0m\u001b[0m\n\u001b[0m",
      "\u001b[1;31mNameError\u001b[0m: name 'bad_links' is not defined"
     ]
    }
   ],
   "source": []
  }
 ],
 "metadata": {
  "kernelspec": {
   "display_name": "Python 3",
   "language": "python",
   "name": "python3"
  },
  "language_info": {
   "codemirror_mode": {
    "name": "ipython",
    "version": 3
   },
   "file_extension": ".py",
   "mimetype": "text/x-python",
   "name": "python",
   "nbconvert_exporter": "python",
   "pygments_lexer": "ipython3",
   "version": "3.6.5"
  }
 },
 "nbformat": 4,
 "nbformat_minor": 2
}
